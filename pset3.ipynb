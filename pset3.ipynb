{
 "cells": [
  {
   "cell_type": "code",
   "execution_count": 16,
   "id": "afc1b8c5",
   "metadata": {},
   "outputs": [],
   "source": [
    "import numpy as np\n",
    "import matplotlib.pyplot as plt\n",
    "import astropy\n",
    "import astropy.units as u\n",
    "import astropy.constants as const"
   ]
  },
  {
   "cell_type": "code",
   "execution_count": 17,
   "id": "92264b29",
   "metadata": {},
   "outputs": [],
   "source": [
    "def surface_grav(mass, radius):\n",
    "\n",
    "    return (const.G * mass) / radius**2\n",
    "\n",
    "\n",
    "def a_contraction(r_initial, r_final, time):\n",
    "\n",
    "    return 2 * (r_final - r_initial) / time.to(u.s) ** 2"
   ]
  },
  {
   "cell_type": "code",
   "execution_count": 18,
   "id": "f0aec14e",
   "metadata": {},
   "outputs": [
    {
     "name": "stdout",
     "output_type": "stream",
     "text": [
      "5.59592064606884 m / s2 362.2672898102433 m / s2 -9.516166452828988e-21 m / s2\n"
     ]
    }
   ],
   "source": [
    "g_stara_initial = surface_grav(1.0 * const.M_sun, 7.0 * const.R_sun)\n",
    "g_stara_final = surface_grav(1.0 * const.M_sun, 0.87 * const.R_sun)\n",
    "a_stara = a_contraction(7.0 * const.R_sun, 0.87 * const.R_sun, 30e6 * u.year)\n",
    "print(g_stara_initial, g_stara_final, a_stara)"
   ]
  },
  {
   "cell_type": "code",
   "execution_count": 19,
   "id": "8a397da9",
   "metadata": {},
   "outputs": [
    {
     "name": "stdout",
     "output_type": "stream",
     "text": [
      "362.2672898102433 m / s2 274.20011165737316 m / s2 8.69671057394294e-27 m / s2\n"
     ]
    }
   ],
   "source": [
    "g_starb_final = surface_grav(1.0 * const.M_sun, 1 * const.R_sun)\n",
    "g_starb_initial = surface_grav(1.0 * const.M_sun, 0.87 * const.R_sun)\n",
    "a_starb = a_contraction(0.87 * const.R_sun, 1 * const.R_sun, 4.57e9 * u.year)\n",
    "print(g_starb_initial, g_starb_final, a_starb)"
   ]
  },
  {
   "cell_type": "markdown",
   "id": "108c6e9a",
   "metadata": {},
   "source": [
    "## Problem 2"
   ]
  },
  {
   "cell_type": "code",
   "execution_count": 20,
   "id": "8e1eaafd",
   "metadata": {},
   "outputs": [],
   "source": [
    "def stellar_energy_by_phase(initial_mass_msun):\n",
    "\n",
    "    mass_star = initial_mass_msun * const.M_sun\\\n",
    "        # assumed solar\n",
    "    mass_of_hydrogen = 0.7 * mass_star\n",
    "    mass_of_helium = 0.3 * mass_star\n",
    "    \n",
    "    \n",
    "    # efficiencies\n",
    "    eta_H = 0.00712  # H -> He\n",
    "    eta_He = 0.00083  # He -> C/O\n",
    "\n",
    "    # masses burned per phase\n",
    "    f_nuc = 0.1\n",
    "    m_MS = f_nuc * mass_of_hydrogen # ms\n",
    "    \n",
    "    # updates masses\n",
    "    mass_of_hydrogen_after_MS = mass_of_hydrogen - m_MS\n",
    "    mass_of_helium_after_MS = mass_of_helium + m_MS * (1 -eta_H) # the helium mass increases\n",
    "    \n",
    "    print(\"after MS\")\n",
    "    print(\"mass of hydrogen {:.4f} Msun\".format(mass_of_hydrogen_after_MS / const.M_sun))\n",
    "    print(\"mass of helium {:.4f} Msun\".format(mass_of_helium_after_MS / const.M_sun))\n",
    "    E_MS = eta_H * m_MS * const.c**2\n",
    "    \n",
    "    \n",
    "    # the red giant branch burns a total of 0.5 solar masses of hydrogen,\n",
    "    # so we need to subtract the mass of hydrogen that was burned in the MS\n",
    "    # phase from the mass of hydrogen, that's the mass that will be burned in the RGB phase\n",
    "    mass_for_rgb = (0.5 *const.M_sun) - m_MS\n",
    "    E_RGBshell = eta_H * mass_for_rgb * const.c**2\n",
    "    print(\"mass for RGB shell burning {:.4f} Msun\".format(mass_for_rgb / const.M_sun))\n",
    "    # RGB mass increases the mass of helium and drains the mass of hydrogen\n",
    "    mass_of_hydrogen_after_RGB = mass_of_hydrogen_after_MS - mass_for_rgb\n",
    "    mass_of_helium_after_RGB = mass_of_helium_after_MS + mass_for_rgb * (1 - eta_H)\n",
    "\n",
    "   \n",
    "    print(\"after RGB\")\n",
    "    print(\"mass of hydrogen {:.4f} Msun\".format(mass_of_hydrogen_after_RGB / const.M_sun))\n",
    "    print(\"mass of helium {:.4f} Msun\".format(mass_of_helium_after_RGB / const.M_sun))\n",
    "    \n",
    "    # ok, now core helium is burnin gfrom the build up of helium\n",
    "    # the helium burnin goges on until 0.5 Msun of helium is burned\n",
    "    mass_for_helium_burning = 0.5 * const.M_sun\n",
    "    E_He = eta_He * mass_for_helium_burning * const.c**2\n",
    "    \n",
    "    # now burn hydrogen so that Luminosity is twice the core helium burning\n",
    "    # luminosity, so 2 * E_He= 2 * eta_He * mass_for_helium_burning * c^2\n",
    "    # we need to find how much hydrogen mass is needed to burn this energy \n",
    "    H_mass_for_shell_burning_during_CHeB = (2 * E_He) / (eta_H * const.c**2)\n",
    "    E_shell_burning = eta_H * H_mass_for_shell_burning_during_CHeB * const.c**2\n",
    "    \n",
    "    E_total_during_CHeB = E_He + E_shell_burning\n",
    "    \n",
    "    # this is the mass of hydrogen that will be burned in the shell during\n",
    "    # the core helium burning phase, so we need to subtract this from the\n",
    "    # mass of hydrogen after the red giant branch\n",
    "    mass_of_hydrogen_after_CHeB = mass_of_hydrogen_after_RGB - H_mass_for_shell_burning_during_CHeB\n",
    "    \n",
    "    # now we need to find the mass of helium after the core helium burning phase\n",
    "    mass_of_helium_after_CHeB = mass_of_helium_after_RGB + H_mass_for_shell_burning_during_CHeB * (1 - eta_H)  - mass_for_helium_burning\n",
    "    \n",
    "    # mass of the metals from the helium burning core\n",
    "    mass_of_metals = mass_for_helium_burning * (1 - eta_He)\n",
    "    \n",
    "    print(\"after CHeB\")\n",
    "    print(\"mass of hydrogen {:.6f} Msun\".format(mass_of_hydrogen_after_CHeB / const.M_sun))\n",
    "    print(\"mass of helium {:.6f} Msun\".format(mass_of_helium_after_CHeB / const.M_sun))\n",
    "    print(\"mass of metals {:.6f} Msun\".format(mass_of_metals / const.M_sun))\n",
    "    \n",
    "\n",
    "    E_total = E_MS + E_RGBshell + E_total_during_CHeB\n",
    "    \n",
    "    m_total= mass_of_hydrogen_after_CHeB + mass_of_helium_after_CHeB + mass_of_metals\n",
    "    print(\"mass of star {:.6f} Msun\".format(m_total / const.M_sun))\n",
    "    \n",
    "    return {\n",
    "        \"Main Sequence\": E_MS.to(u.erg),\n",
    "        \"Red Giant Branch\":   E_RGBshell.to(u.erg),\n",
    "        \"Core Helium-Burning\":  E_total_during_CHeB.to(u.erg),\n",
    "        \"Total\": E_total.to(u.erg),\n",
    "    }\n"
   ]
  },
  {
   "cell_type": "code",
   "execution_count": 21,
   "id": "5b92c23a",
   "metadata": {},
   "outputs": [
    {
     "name": "stdout",
     "output_type": "stream",
     "text": [
      "after MS\n",
      "mass of hydrogen 0.6300 Msun\n",
      "mass of helium 0.3695 Msun\n",
      "mass for RGB shell burning 0.4300 Msun\n",
      "after RGB\n",
      "mass of hydrogen 0.2000 Msun\n",
      "mass of helium 0.7964 Msun\n",
      "after CHeB\n",
      "mass of hydrogen 0.083427 Msun\n",
      "mass of helium 0.412183 Msun\n",
      "mass of metals 0.499585 Msun\n",
      "mass of star 0.995195 Msun\n",
      "Main Sequence: 8.91e+50 erg, percent: 10.37%\n",
      "Red Giant Branch: 5.47e+51 erg, percent: 63.72%\n",
      "Core Helium-Burning: 2.22e+51 erg, percent: 25.91%\n",
      "Total: 8.59e+51 erg, percent: 100.00%\n"
     ]
    }
   ],
   "source": [
    "energies = stellar_energy_by_phase(1.0)\n",
    "for phase, energy in energies.items():\n",
    "    print(f\"{phase}: {energy:.2e}, percent: {energy / energies['Total']:.2%}\")"
   ]
  },
  {
   "cell_type": "code",
   "execution_count": 22,
   "id": "e959c371",
   "metadata": {},
   "outputs": [
    {
     "name": "stdout",
     "output_type": "stream",
     "text": [
      "after MS\n",
      "mass of hydrogen 1.2600 Msun\n",
      "mass of helium 0.7390 Msun\n",
      "mass for RGB shell burning 0.3600 Msun\n",
      "after RGB\n",
      "mass of hydrogen 0.9000 Msun\n",
      "mass of helium 1.0964 Msun\n",
      "after CHeB\n",
      "mass of hydrogen 0.783427 Msun\n",
      "mass of helium 0.712183 Msun\n",
      "mass of metals 0.499585 Msun\n",
      "mass of star 1.995195 Msun\n",
      "Main Sequence: 1.78e+51 erg, percent: 20.75%\n",
      "Red Giant Branch: 4.58e+51 erg, percent: 53.34%\n",
      "Core Helium-Burning: 2.22e+51 erg, percent: 25.91%\n",
      "Total: 8.59e+51 erg, percent: 100.00%\n"
     ]
    }
   ],
   "source": [
    "energies = stellar_energy_by_phase(2.0)\n",
    "for phase, energy in energies.items():\n",
    "    print(f\"{phase}: {energy:.2e}, percent: {energy / energies['Total']:.2%}\")"
   ]
  },
  {
   "cell_type": "code",
   "execution_count": 23,
   "id": "8316c1e1",
   "metadata": {},
   "outputs": [
    {
     "name": "stdout",
     "output_type": "stream",
     "text": [
      "after MS\n",
      "mass of hydrogen 2.5200 Msun\n",
      "mass of helium 1.4780 Msun\n",
      "mass for RGB shell burning 0.2200 Msun\n",
      "after RGB\n",
      "mass of hydrogen 2.3000 Msun\n",
      "mass of helium 1.6964 Msun\n",
      "after CHeB\n",
      "mass of hydrogen 2.183427 Msun\n",
      "mass of helium 1.312183 Msun\n",
      "mass of metals 0.499585 Msun\n",
      "mass of star 3.995195 Msun\n",
      "Main Sequence: 3.56e+51 erg, percent: 41.49%\n",
      "Red Giant Branch: 2.80e+51 erg, percent: 32.60%\n",
      "Core Helium-Burning: 2.22e+51 erg, percent: 25.91%\n",
      "Total: 8.59e+51 erg, percent: 100.00%\n"
     ]
    }
   ],
   "source": [
    "energies = stellar_energy_by_phase(4.0)\n",
    "for phase, energy in energies.items():\n",
    "    print(f\"{phase}: {energy:.2e}, percent: {energy / energies['Total']:.2%}\")"
   ]
  },
  {
   "cell_type": "markdown",
   "id": "7070c924",
   "metadata": {},
   "source": [
    "## Problem 3"
   ]
  },
  {
   "cell_type": "code",
   "execution_count": 24,
   "id": "2d7c43c1",
   "metadata": {},
   "outputs": [
    {
     "name": "stdout",
     "output_type": "stream",
     "text": [
      "Distance to Betelgeuse: 7.57e+20 cm\n",
      "Neutrino flux: 1.39e+14 1 / cm2\n",
      "Cross section: 3.24e+03 cm2\n",
      "Neutrinos passing through me: 4.50e+17\n",
      "58.0 kg 1.67262192369e-27 kg\n",
      "Number of nucleons: 3.47e+28\n",
      "Interaction rate: 4.82e+02\n"
     ]
    }
   ],
   "source": [
    "\n",
    "d_betelgues = 800 * u.lyr\n",
    "d_betelgues = d_betelgues.to(u.cm)\n",
    "print(\"Distance to Betelgeuse: {:.2e}\".format(d_betelgues))\n",
    "\n",
    "n_neutrinos = 1e57\n",
    "neutrino_flux = n_neutrinos / (4 * np.pi * d_betelgues**2)\n",
    "print(\"Neutrino flux: {:.2e}\".format(neutrino_flux))\n",
    "\n",
    "my_cross_section = 162 * 20 * u.cm**2\n",
    "print(\"Cross section: {:.2e}\".format(my_cross_section))\n",
    "neutrinos_passing_through_me = neutrino_flux * my_cross_section\n",
    "print(\"Neutrinos passing through me: {:.2e}\".format(neutrinos_passing_through_me))\n",
    "\n",
    "nucleon_cross_section = 1e-40 * u.cm**2\n",
    "\n",
    "mass_human = 58 * u.kg\n",
    "mass_proton = const.m_p.to(u.kg)\n",
    "print(mass_human, mass_proton)\n",
    "num_nucleons = (mass_human / mass_proton) \n",
    "print(\"Number of nucleons: {:.2e}\".format(num_nucleons))\n",
    "interaction_rate = nucleon_cross_section * neutrino_flux * num_nucleons\n",
    "print(\"Interaction rate: {:.2e}\".format(interaction_rate))\n"
   ]
  },
  {
   "cell_type": "code",
   "execution_count": 25,
   "id": "b0f1d2f5",
   "metadata": {},
   "outputs": [
    {
     "name": "stdout",
     "output_type": "stream",
     "text": [
      "Interactions per second: 2.25e-03 1 / s\n",
      "Interactions per day: 1.95e+02 1 / d\n",
      "Interactions per year: 71129.13582857595 1 / yr\n"
     ]
    }
   ],
   "source": [
    "solar_sigma = 1e-42 *u.cm**2\n",
    "solar_neutrino_flux_at_1_au = 6.5e10 * u.cm**-2 *u.s**-1\n",
    "interactions_per_second = solar_sigma * solar_neutrino_flux_at_1_au * num_nucleons\n",
    "print(\"Interactions per second: {:.2e}\".format(interactions_per_second))\n",
    "print(\"Interactions per day: {:.2e}\".format(interactions_per_second.to(u.day**-1)))\n",
    "print(\"Interactions per year: {:}\".format(interactions_per_second.to(u.year**-1)))\n"
   ]
  },
  {
   "cell_type": "markdown",
   "id": "af140d66",
   "metadata": {},
   "source": [
    "# Problem 5"
   ]
  },
  {
   "cell_type": "code",
   "execution_count": 26,
   "id": "9d6886fb",
   "metadata": {},
   "outputs": [
    {
     "name": "stdout",
     "output_type": "stream",
     "text": [
      "extra galactic flux: 8.36e+10 1 / cm2\n",
      "Number of targets: 5.98e+38\n",
      "Number of ICECUBE interactions: 5.00e+09\n"
     ]
    }
   ],
   "source": [
    "extra_galactic_nova_distance = 10 * u.kpc\n",
    "extra_galactic_flux = n_neutrinos / (4 * np.pi * extra_galactic_nova_distance**2)\n",
    "print(\"extra galactic flux: {:.2e}\".format(extra_galactic_flux.to(u.cm**-2) ))\n",
    "ice_cub_detector = 1 * u.km**3 \n",
    "water_density = 1 * u.g / u.cm**3\n",
    "n_targets = water_density * ice_cub_detector.to(u.cm**3) / mass_proton.to(u.g)\n",
    "print(\"Number of targets: {:.2e}\".format(n_targets))    \n",
    "\n",
    "num_ice_cube_interactions = n_targets * extra_galactic_flux.to(u.cm**-2) * nucleon_cross_section\n",
    "print(\"Number of ICECUBE interactions: {:.2e}\".format(num_ice_cube_interactions))"
   ]
  },
  {
   "cell_type": "code",
   "execution_count": 27,
   "id": "d6a663ef",
   "metadata": {},
   "outputs": [
    {
     "data": {
      "text/latex": [
       "$1 \\times 10^{15} \\; \\mathrm{cm^{3}}$"
      ],
      "text/plain": [
       "<Quantity 1.e+15 cm3>"
      ]
     },
     "execution_count": 27,
     "metadata": {},
     "output_type": "execute_result"
    }
   ],
   "source": [
    "ice_cub_detector.to(u.cm**3) "
   ]
  },
  {
   "cell_type": "code",
   "execution_count": 28,
   "id": "92d53303",
   "metadata": {},
   "outputs": [
    {
     "data": {
      "text/plain": [
       "0.0007401600000000001"
      ]
     },
     "execution_count": 28,
     "metadata": {},
     "output_type": "execute_result"
    }
   ],
   "source": [
    "5.14 * (0.12)**2 *(10/100)**2 * (10/10)**2"
   ]
  },
  {
   "cell_type": "markdown",
   "id": "3c8511fa",
   "metadata": {},
   "source": [
    "# Problem 6"
   ]
  },
  {
   "cell_type": "code",
   "execution_count": 82,
   "id": "e43be3c5",
   "metadata": {},
   "outputs": [
    {
     "name": "stdout",
     "output_type": "stream",
     "text": [
      "r_init: 4.43e+00 solRad\n",
      "Initial radius: 4.43e+00 solRad\n",
      "Initial period: 2.59e+05 s\n",
      "Initial angular momentum: 1.83e+45 kg m2 / s\n",
      "Final radius: 1.44e-05 solRad\n",
      "Final omega: 1.15e+07 1 / s\n",
      "Final period: 5.46e-07 s\n",
      "Final radius 1.00e+04 m\n",
      "Speed at equator: 3.84e+02c\n",
      "Gravity at equator: 2.65e+12 m / s2\n",
      "Effective gravity at equator: -1.32e+18 m / s2\n",
      "Oblateness: 6.23e+05\n"
     ]
    }
   ],
   "source": [
    "def radius_main_sequence(mass):\n",
    "    return 1.4 * mass.value**0.5 * u.Rsun\n",
    "\n",
    "m_init = 10 * u.M_sun\n",
    "r_init = radius_main_sequence(m_init)\n",
    "print(\"r_init: {:.2e}\".format(r_init))\n",
    "period_init = 3 * u.day\n",
    "omega_init = 2 * np.pi / period_init.to(u.s)\n",
    "\n",
    "ang_mom_init = 0.4 * m_init * r_init**2 * omega_init\n",
    "print(\"Initial radius: {:.2e}\".format(r_init))\n",
    "print(\"Initial period: {:.2e}\".format(period_init.to(u.s)))\n",
    "print(\"Initial angular momentum: {:.2e}\".format(ang_mom_init.to(u.kg * u.m**2 / u.s)))\n",
    "\n",
    "r_final = (10* u.km).to(u.Rsun)\n",
    "m_final = 2 * u.M_sun\n",
    "\n",
    "omega_final = ang_mom_init / (0.4 * m_final * r_final**2)\n",
    "\n",
    "\n",
    "period_final = 2 * np.pi / omega_final\n",
    "print(\"Final radius: {:.2e}\".format(r_final))\n",
    "print(\"Final omega: {:.2e}\".format(omega_final.to(u.s**-1)))\n",
    "print(\"Final period: {:.2e}\".format(period_final.to(u.s)))\n",
    "# pf = period_init *( r_final / r_init)**2\n",
    "print(\"Final radius {:.2e}\".format(r_final.to(u.m)))\n",
    "speed_at_equator = 2* np.pi * r_final / period_final \n",
    "print(\"Speed at equator: {:.2e}c\".format(speed_at_equator.to(u.m / u.s) / const.c))\n",
    "\n",
    "gravity_at_equator = surface_grav(m_final, r_final)\n",
    "print(\"Gravity at equator: {:.2e}\".format(gravity_at_equator.to(u.m / u.s**2)))\n",
    "\n",
    "# surface gravity with rotation\n",
    "g_eff = gravity_at_equator  - r_final * omega_final**2\n",
    "print(\"Effective gravity at equator: {:.2e}\".format(g_eff.to(u.m / u.s**2)))\n",
    "\n",
    "oblateness = (5/4) * (r_final.to(u.m)**3 * omega_final**2) / (const.G * m_final.to(u.kg))\n",
    "print(\"Oblateness: {:.2e}\".format(oblateness))\n"
   ]
  },
  {
   "cell_type": "code",
   "execution_count": 38,
   "id": "1575114d",
   "metadata": {},
   "outputs": [
    {
     "data": {
      "text/plain": [
       "1.988409870698051e+30"
      ]
     },
     "execution_count": 38,
     "metadata": {},
     "output_type": "execute_result"
    }
   ],
   "source": [
    "u.M_sun.to(u.kg)"
   ]
  },
  {
   "cell_type": "markdown",
   "id": "3f65bac2",
   "metadata": {},
   "source": [
    "# Question 8"
   ]
  },
  {
   "cell_type": "code",
   "execution_count": 51,
   "id": "b6ae0788",
   "metadata": {},
   "outputs": [
    {
     "name": "stdout",
     "output_type": "stream",
     "text": [
      "Luminosity of Sag A*: 5.15e+44 erg / s\n",
      "Luminosity of Sag A*  5.15e+44 cm2 g / s3\n",
      "Flux at Earth Sag A*: 6.41e-02 erg / (cm2 s)\n",
      "Flux at Earth Sirius A: 1.17e-04 erg / (cm2 s)\n",
      "Flux ratio: 5.48e+02\n",
      "Eddington accretion rate: 5.73e+24 g / s\n",
      "Eddington accretion rate: 9.10e-02 solMass / yr\n"
     ]
    }
   ],
   "source": [
    "def eddington_lum(mass):\n",
    "    mass = mass.to(u.kg)\n",
    "    thomson_scattering = const.sigma_T \n",
    "    return (4 * np.pi * const.G * mass * const.m_p * const.c) / thomson_scattering\n",
    "\n",
    "mass_sag_a = 4.1e6 * u.Msun \n",
    "lum_sag_a = eddington_lum(mass_sag_a).to(u.erg/u.s)\n",
    "print(\"Luminosity of Sag A*: {:.2e}\".format(lum_sag_a))\n",
    "print(\"Luminosity of Sag A*  {:.2e}\".format(lum_sag_a.to(u.g * u.cm**2 / u.s**3)))\n",
    "\n",
    "distance = 8200 * u.pc\n",
    "flux = lum_sag_a / (4 * np.pi * distance.to(u.cm)**2)\n",
    "print(\"Flux at Earth Sag A*: {:.2e}\".format(flux.to(u.erg / u.s / u.cm**2)))\n",
    "\n",
    "sirius_a_lum = 24.7 * u.Lsun\n",
    "distance_sirius_a = 2.6 * u.pc\n",
    "flux_sirius_a = sirius_a_lum.to(u.erg / u.s) / (4 * np.pi * distance_sirius_a.to(u.cm)**2)\n",
    "print(\"Flux at Earth Sirius A: {:.2e}\".format(flux_sirius_a.to(u.erg / u.s / u.cm**2)))\n",
    "\n",
    "print(\"Flux ratio: {:.2e}\".format(flux / flux_sirius_a))\n",
    "efficiency = 0.1\n",
    "mdot_edd = lum_sag_a / (const.c**2 * efficiency)\n",
    "print(\"Eddington accretion rate: {:.2e}\".format(mdot_edd.to(u.g / u.s)))\n",
    "print(\"Eddington accretion rate: {:.2e}\".format(mdot_edd.to(u.Msun / u.yr)))\n",
    "    "
   ]
  },
  {
   "cell_type": "markdown",
   "id": "0145433a",
   "metadata": {},
   "source": [
    "# Problem 9 "
   ]
  },
  {
   "cell_type": "code",
   "execution_count": 84,
   "id": "d402e5be",
   "metadata": {},
   "outputs": [
    {
     "name": "stdout",
     "output_type": "stream",
     "text": [
      "Semi-major axis: 1.82e+00 AU\n",
      "Semi-major axis of the white dwarf: 1.51e+00 AU\n",
      "Semi-major axis of the red giant: 3.03e-01 AU\n",
      "Orbital velocity of the red giant: 9.02e+00 km / s\n",
      "Orbital velocity of the white dwarf: 4.51e+01 km / s\n"
     ]
    }
   ],
   "source": [
    "m_wd = 1    * u.Msun\n",
    "m_rg =5 * u.Msun\n",
    "period = 1.0 * u.yr\n",
    "wd_mass_transfer = 1e-7 * u.Msun / u.yr \n",
    "omega = 2 * np.pi / period.to(u.s)\n",
    "semi_major_axis = (const.G * ( m_rg + m_wd) * period**2 / (4 * np.pi**2))**(1/3) \n",
    "print(\"Semi-major axis: {:.2e}\".format(semi_major_axis.to(u.au)))\n",
    "a_wd = m_rg / (m_rg + m_wd) * semi_major_axis\n",
    "print(\"Semi-major axis of the white dwarf: {:.2e}\".format(a_wd.to(u.au)))\n",
    "a_rg = m_wd / (m_rg + m_wd) * semi_major_axis\n",
    "print(\"Semi-major axis of the red giant: {:.2e}\".format(a_rg.to(u.au)))\n",
    "\n",
    "v_orbital_rg =  2 * np.pi * a_rg / period.to(u.s)\n",
    "v_orbital_wd = 2 * np.pi * a_wd / period.to(u.s)\n",
    "print(\"Orbital velocity of the red giant: {:.2e}\".format(v_orbital_rg.to(u.km / u.s)))\n",
    "print(\"Orbital velocity of the white dwarf: {:.2e}\".format(v_orbital_wd.to(u.km / u.s)))"
   ]
  },
  {
   "cell_type": "code",
   "execution_count": 85,
   "id": "18f5a23e",
   "metadata": {},
   "outputs": [
    {
     "name": "stdout",
     "output_type": "stream",
     "text": [
      "Relative velocity of the wind: 4.62e+01 km / s\n",
      "Bondi accretion radius: 1.24e+13 cm\n",
      "Fraction of mass accreted: 0.052\n"
     ]
    }
   ],
   "source": [
    "v_wind = 10 * u.km / u.s\n",
    "v_rel_wd = np.sqrt(v_wind**2 + v_orbital_wd**2)\n",
    "print(\"Relative velocity of the wind: {:.2e}\".format(v_rel_wd.to(u.km / u.s)))\n",
    "bondi_accretion_radius = (2 * const.G * m_wd) / (v_rel_wd**2)\n",
    "print(\"Bondi accretion radius: {:.2e}\".format(bondi_accretion_radius.to(u.cm)))\n",
    "fraction_accreted= bondi_accretion_radius**2 / (4 * semi_major_axis**2)\n",
    "print(\"Fraction of mass accreted: {:.2}\".format(fraction_accreted.to(u.dimensionless_unscaled)))"
   ]
  },
  {
   "cell_type": "markdown",
   "id": "3a69baf5",
   "metadata": {},
   "source": [
    "## using Bondi"
   ]
  },
  {
   "cell_type": "code",
   "execution_count": 88,
   "id": "58b8f1bc",
   "metadata": {},
   "outputs": [
    {
     "name": "stdout",
     "output_type": "stream",
     "text": [
      "Bondi accretion rate: 2.42e-08 solMass / yr\n",
      "Fraction of mass accreted: 0.24\n"
     ]
    }
   ],
   "source": [
    "rho = wd_mass_transfer / (4 * np.pi * semi_major_axis**2 * v_wind)\n",
    "mdot_bondi = 4 * np.pi * const.G**2 * m_wd**2 * rho / v_rel_wd**3 \n",
    "print(\"Bondi accretion rate: {:.2e}\".format(mdot_bondi.to(u.Msun / u.yr)))\n",
    "\n",
    "fraction_accreted = mdot_bondi / wd_mass_transfer\n",
    "print(\"Fraction of mass accreted: {:.2}\".format(fraction_accreted.to(u.dimensionless_unscaled)))"
   ]
  },
  {
   "cell_type": "markdown",
   "id": "73bc004c",
   "metadata": {},
   "source": [
    "# Problem 9"
   ]
  },
  {
   "cell_type": "code",
   "execution_count": 75,
   "id": "c06527df",
   "metadata": {},
   "outputs": [
    {
     "name": "stdout",
     "output_type": "stream",
     "text": [
      "Bolometric magnitude: -6.36\n",
      "Absolute magnitude: -30.78\n"
     ]
    }
   ],
   "source": [
    "bol_lum = 3e4 * u.Lsun\n",
    "bol_mag = -2.5 * np.log10(bol_lum / (const.L_sun.to(u.erg / u.s))) + 4.83\n",
    "print(\"Bolometric magnitude: {:.2f}\".format(bol_mag))\n",
    "\n",
    "d_andromeda = 765 * u.kpc\n",
    "abs_mag = bol_mag - 5 * np.log10((d_andromeda.to(u.pc) / 10*u.pc).value)\n",
    "print(\"Absolute magnitude: {:.2f}\".format(abs_mag))"
   ]
  }
 ],
 "metadata": {
  "kernelspec": {
   "display_name": "Python 3",
   "language": "python",
   "name": "python3"
  },
  "language_info": {
   "codemirror_mode": {
    "name": "ipython",
    "version": 3
   },
   "file_extension": ".py",
   "mimetype": "text/x-python",
   "name": "python",
   "nbconvert_exporter": "python",
   "pygments_lexer": "ipython3",
   "version": "3.8.10"
  }
 },
 "nbformat": 4,
 "nbformat_minor": 5
}
